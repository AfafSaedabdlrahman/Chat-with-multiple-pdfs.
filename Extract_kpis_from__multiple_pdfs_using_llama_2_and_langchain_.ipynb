{
  "cells": [
    {
      "cell_type": "markdown",
      "metadata": {
        "id": "Q6lnS3Sfcjq6"
      },
      "source": [
        "#Nokia_People_and_Planet_Report_2020.pdf"
      ]
    },
    {
      "cell_type": "code",
      "execution_count": 1,
      "metadata": {
        "colab": {
          "base_uri": "https://localhost:8080/"
        },
        "id": "j5cXc1nacVUx",
        "outputId": "0fdab75c-1ef5-4cf3-f9de-e0563a0600e2"
      },
      "outputs": [
        {
          "output_type": "stream",
          "name": "stdout",
          "text": [
            "Sun Sep 24 19:45:10 2023       \n",
            "+-----------------------------------------------------------------------------+\n",
            "| NVIDIA-SMI 525.105.17   Driver Version: 525.105.17   CUDA Version: 12.0     |\n",
            "|-------------------------------+----------------------+----------------------+\n",
            "| GPU  Name        Persistence-M| Bus-Id        Disp.A | Volatile Uncorr. ECC |\n",
            "| Fan  Temp  Perf  Pwr:Usage/Cap|         Memory-Usage | GPU-Util  Compute M. |\n",
            "|                               |                      |               MIG M. |\n",
            "|===============================+======================+======================|\n",
            "|   0  Tesla T4            Off  | 00000000:00:04.0 Off |                    0 |\n",
            "| N/A   53C    P8    11W /  70W |      0MiB / 15360MiB |      0%      Default |\n",
            "|                               |                      |                  N/A |\n",
            "+-------------------------------+----------------------+----------------------+\n",
            "                                                                               \n",
            "+-----------------------------------------------------------------------------+\n",
            "| Processes:                                                                  |\n",
            "|  GPU   GI   CI        PID   Type   Process name                  GPU Memory |\n",
            "|        ID   ID                                                   Usage      |\n",
            "|=============================================================================|\n",
            "|  No running processes found                                                 |\n",
            "+-----------------------------------------------------------------------------+\n"
          ]
        }
      ],
      "source": [
        "!nvidia-smi"
      ]
    },
    {
      "cell_type": "code",
      "execution_count": 2,
      "metadata": {
        "colab": {
          "base_uri": "https://localhost:8080/"
        },
        "id": "eQlQ4ZWgcXDW",
        "outputId": "d7a4e69b-8d6c-4092-e42c-40dc64e93781"
      },
      "outputs": [
        {
          "output_type": "stream",
          "name": "stdout",
          "text": [
            "\u001b[33mWARNING: Running pip as the 'root' user can result in broken permissions and conflicting behaviour with the system package manager. It is recommended to use a virtual environment instead: https://pip.pypa.io/warnings/venv\u001b[0m\u001b[33m\n",
            "\u001b[0m\u001b[33mWARNING: Running pip as the 'root' user can result in broken permissions and conflicting behaviour with the system package manager. It is recommended to use a virtual environment instead: https://pip.pypa.io/warnings/venv\u001b[0m\u001b[33m\n",
            "\u001b[0m\u001b[33mWARNING: Running pip as the 'root' user can result in broken permissions and conflicting behaviour with the system package manager. It is recommended to use a virtual environment instead: https://pip.pypa.io/warnings/venv\u001b[0m\u001b[33m\n",
            "\u001b[0m\u001b[33mWARNING: Running pip as the 'root' user can result in broken permissions and conflicting behaviour with the system package manager. It is recommended to use a virtual environment instead: https://pip.pypa.io/warnings/venv\u001b[0m\u001b[33m\n",
            "\u001b[0m\u001b[33mWARNING: Running pip as the 'root' user can result in broken permissions and conflicting behaviour with the system package manager. It is recommended to use a virtual environment instead: https://pip.pypa.io/warnings/venv\u001b[0m\u001b[33m\n",
            "\u001b[0m\u001b[33mWARNING: Running pip as the 'root' user can result in broken permissions and conflicting behaviour with the system package manager. It is recommended to use a virtual environment instead: https://pip.pypa.io/warnings/venv\u001b[0m\u001b[33m\n",
            "\u001b[0m\u001b[33mWARNING: Running pip as the 'root' user can result in broken permissions and conflicting behaviour with the system package manager. It is recommended to use a virtual environment instead: https://pip.pypa.io/warnings/venv\u001b[0m\u001b[33m\n",
            "\u001b[0m\u001b[33mWARNING: Running pip as the 'root' user can result in broken permissions and conflicting behaviour with the system package manager. It is recommended to use a virtual environment instead: https://pip.pypa.io/warnings/venv\u001b[0m\u001b[33m\n",
            "\u001b[0m\u001b[33mWARNING: Running pip as the 'root' user can result in broken permissions and conflicting behaviour with the system package manager. It is recommended to use a virtual environment instead: https://pip.pypa.io/warnings/venv\u001b[0m\u001b[33m\n",
            "\u001b[0m\u001b[33mWARNING: Running pip as the 'root' user can result in broken permissions and conflicting behaviour with the system package manager. It is recommended to use a virtual environment instead: https://pip.pypa.io/warnings/venv\u001b[0m\u001b[33m\n",
            "\u001b[0m"
          ]
        }
      ],
      "source": [
        "!pip install -Uqqq pip --progress-bar off\n",
        "!pip install -qqq torch==2.0.1 --progress-bar off\n",
        "!pip install -qqq transformers==4.31.0 --progress-bar off\n",
        "!pip install -qqq langchain==0.0.266 --progress-bar off\n",
        "!pip install -qqq chromadb==0.4.5 --progress-bar off\n",
        "!pip install -qqq pypdf==3.15.0 --progress-bar off\n",
        "!pip install -qqq xformers==0.0.20 --progress-bar off\n",
        "!pip install -qqq sentence_transformers==2.2.2 --progress-bar off\n",
        "!pip install -qqq InstructorEmbedding==1.0.1 --progress-bar off\n",
        "!pip install -qqq pdf2image==1.16.3 --progress-bar off"
      ]
    },
    {
      "cell_type": "code",
      "execution_count": 3,
      "metadata": {
        "id": "ecTRR8hwhn0C"
      },
      "outputs": [],
      "source": [
        "!wget -q https://github.com/PanQiWei/AutoGPTQ/releases/download/v0.4.1/auto_gptq-0.4.1+cu118-cp310-cp310-linux_x86_64.whl"
      ]
    },
    {
      "cell_type": "code",
      "execution_count": 4,
      "metadata": {
        "colab": {
          "base_uri": "https://localhost:8080/"
        },
        "id": "C0_Fa50LkfoB",
        "outputId": "a89e1623-b1ef-4dea-dc5c-a99c12f37f10"
      },
      "outputs": [
        {
          "output_type": "stream",
          "name": "stdout",
          "text": [
            "\u001b[33mWARNING: Running pip as the 'root' user can result in broken permissions and conflicting behaviour with the system package manager. It is recommended to use a virtual environment instead: https://pip.pypa.io/warnings/venv\u001b[0m\u001b[33m\n",
            "\u001b[0m"
          ]
        }
      ],
      "source": [
        "!pip install -qqq auto_gptq-0.4.1+cu118-cp310-cp310-linux_x86_64.whl --progress-bar off"
      ]
    },
    {
      "cell_type": "code",
      "execution_count": 5,
      "metadata": {
        "colab": {
          "base_uri": "https://localhost:8080/"
        },
        "id": "t7ShwfeTubDU",
        "outputId": "d830de94-75d5-4445-ee86-19824158f28e"
      },
      "outputs": [
        {
          "output_type": "stream",
          "name": "stdout",
          "text": [
            "Reading package lists... Done\n",
            "Building dependency tree... Done\n",
            "Reading state information... Done\n",
            "poppler-utils is already the newest version (22.02.0-2ubuntu0.2).\n",
            "0 upgraded, 0 newly installed, 0 to remove and 18 not upgraded.\n"
          ]
        }
      ],
      "source": [
        "!sudo apt-get install poppler-utils"
      ]
    },
    {
      "cell_type": "code",
      "execution_count": 6,
      "metadata": {
        "id": "vH5IpjeNflMU"
      },
      "outputs": [],
      "source": [
        "import torch\n",
        "from auto_gptq import AutoGPTQForCausalLM\n",
        "from langchain import HuggingFacePipeline, PromptTemplate\n",
        "from langchain.chains import RetrievalQA\n",
        "from langchain.document_loaders import PyPDFDirectoryLoader\n",
        "from langchain.embeddings import HuggingFaceInstructEmbeddings\n",
        "from langchain.text_splitter import RecursiveCharacterTextSplitter\n",
        "from langchain.vectorstores import Chroma\n",
        "from pdf2image import convert_from_path\n",
        "from transformers import AutoTokenizer, TextStreamer, pipeline\n",
        "\n",
        "DEVICE = \"cuda:0\" if torch.cuda.is_available() else \"cpu\""
      ]
    },
    {
      "cell_type": "markdown",
      "metadata": {
        "id": "jiX57tzWOJAg"
      },
      "source": [
        "## Data"
      ]
    },
    {
      "cell_type": "code",
      "execution_count": 7,
      "metadata": {
        "colab": {
          "base_uri": "https://localhost:8080/"
        },
        "id": "OQm1m0Me0XHj",
        "outputId": "00c6685b-3485-41eb-8ed3-ebab7568217b"
      },
      "outputs": [
        {
          "output_type": "stream",
          "name": "stdout",
          "text": [
            "mkdir: cannot create directory ‘pdfs’: File exists\n"
          ]
        }
      ],
      "source": [
        "!mkdir pdfs"
      ]
    },
    {
      "cell_type": "code",
      "execution_count": 8,
      "metadata": {
        "id": "6ywUvMDqZFf4"
      },
      "outputs": [],
      "source": [
        "!rm -rf \"db\""
      ]
    },
    {
      "cell_type": "code",
      "execution_count": 9,
      "metadata": {
        "colab": {
          "base_uri": "https://localhost:8080/"
        },
        "id": "RQmhREpeOInh",
        "outputId": "d6cd53fb-5151-4809-c58f-c14774a77268"
      },
      "outputs": [
        {
          "output_type": "execute_result",
          "data": {
            "text/plain": [
              "102"
            ]
          },
          "metadata": {},
          "execution_count": 9
        }
      ],
      "source": [
        "loader = PyPDFDirectoryLoader(\"/content/pdfs\")\n",
        "docs = loader.load()\n",
        "len(docs)"
      ]
    },
    {
      "cell_type": "code",
      "execution_count": 10,
      "metadata": {
        "colab": {
          "base_uri": "https://localhost:8080/"
        },
        "id": "wjJ0DI9MRNkT",
        "outputId": "3e8076c4-b1bf-4740-b738-b9aa662b4d9e"
      },
      "outputs": [
        {
          "output_type": "stream",
          "name": "stdout",
          "text": [
            "load INSTRUCTOR_Transformer\n",
            "max_seq_length  512\n"
          ]
        }
      ],
      "source": [
        "embeddings = HuggingFaceInstructEmbeddings(\n",
        "    model_name=\"hkunlp/instructor-large\", model_kwargs={\"device\": DEVICE}\n",
        ")"
      ]
    },
    {
      "cell_type": "code",
      "execution_count": 11,
      "metadata": {
        "colab": {
          "base_uri": "https://localhost:8080/"
        },
        "id": "yFztsob3WO3x",
        "outputId": "3af034d8-3b5a-4dd2-c3ad-d74fe5b95e11"
      },
      "outputs": [
        {
          "output_type": "execute_result",
          "data": {
            "text/plain": [
              "402"
            ]
          },
          "metadata": {},
          "execution_count": 11
        }
      ],
      "source": [
        "text_splitter = RecursiveCharacterTextSplitter(chunk_size=1024, chunk_overlap=64)\n",
        "texts = text_splitter.split_documents(docs)\n",
        "len(texts)"
      ]
    },
    {
      "cell_type": "code",
      "execution_count": 12,
      "metadata": {
        "colab": {
          "base_uri": "https://localhost:8080/"
        },
        "id": "ESFJOOYEWTX9",
        "outputId": "a5f7a3ed-717b-4019-9001-40315ea03033"
      },
      "outputs": [
        {
          "output_type": "stream",
          "name": "stdout",
          "text": [
            "CPU times: user 30.6 s, sys: 1.5 s, total: 32.1 s\n",
            "Wall time: 42.4 s\n"
          ]
        }
      ],
      "source": [
        "%%time\n",
        "db = Chroma.from_documents(texts, embeddings, persist_directory=\"db\")"
      ]
    },
    {
      "cell_type": "markdown",
      "metadata": {
        "id": "GcylvlF60r_m"
      },
      "source": [
        "## Llama 2 13B"
      ]
    },
    {
      "cell_type": "code",
      "execution_count": 13,
      "metadata": {
        "colab": {
          "base_uri": "https://localhost:8080/"
        },
        "id": "DrSTLMQbfjFp",
        "outputId": "097f3534-ab20-49f4-f894-f7dfa62dc5b9"
      },
      "outputs": [
        {
          "output_type": "stream",
          "name": "stderr",
          "text": [
            "WARNING:auto_gptq.nn_modules.fused_llama_mlp:skip module injection for FusedLlamaMLPForQuantizedModel not support integrate without triton yet.\n"
          ]
        }
      ],
      "source": [
        "model_name_or_path = \"TheBloke/Llama-2-13B-chat-GPTQ\"\n",
        "model_basename = \"model\"\n",
        "\n",
        "tokenizer = AutoTokenizer.from_pretrained(model_name_or_path, use_fast=True)\n",
        "\n",
        "model = AutoGPTQForCausalLM.from_quantized(\n",
        "    model_name_or_path,\n",
        "    revision=\"gptq-4bit-128g-actorder_True\",\n",
        "    model_basename=model_basename,\n",
        "    use_safetensors=True,\n",
        "    trust_remote_code=True,\n",
        "    inject_fused_attention=False,\n",
        "    device=DEVICE,\n",
        "    quantize_config=None,\n",
        ")"
      ]
    },
    {
      "cell_type": "code",
      "execution_count": 14,
      "metadata": {
        "colab": {
          "base_uri": "https://localhost:8080/"
        },
        "id": "k6yLtagJfvG4",
        "outputId": "89e80377-c4b7-49f7-9f77-4ec242fd8432"
      },
      "outputs": [
        {
          "output_type": "stream",
          "name": "stdout",
          "text": [
            "Sun Sep 24 19:48:45 2023       \n",
            "+-----------------------------------------------------------------------------+\n",
            "| NVIDIA-SMI 525.105.17   Driver Version: 525.105.17   CUDA Version: 12.0     |\n",
            "|-------------------------------+----------------------+----------------------+\n",
            "| GPU  Name        Persistence-M| Bus-Id        Disp.A | Volatile Uncorr. ECC |\n",
            "| Fan  Temp  Perf  Pwr:Usage/Cap|         Memory-Usage | GPU-Util  Compute M. |\n",
            "|                               |                      |               MIG M. |\n",
            "|===============================+======================+======================|\n",
            "|   0  Tesla T4            Off  | 00000000:00:04.0 Off |                    0 |\n",
            "| N/A   52C    P0    35W /  70W |   9647MiB / 15360MiB |     92%      Default |\n",
            "|                               |                      |                  N/A |\n",
            "+-------------------------------+----------------------+----------------------+\n",
            "                                                                               \n",
            "+-----------------------------------------------------------------------------+\n",
            "| Processes:                                                                  |\n",
            "|  GPU   GI   CI        PID   Type   Process name                  GPU Memory |\n",
            "|        ID   ID                                                   Usage      |\n",
            "|=============================================================================|\n",
            "+-----------------------------------------------------------------------------+\n"
          ]
        }
      ],
      "source": [
        "!nvidia-smi"
      ]
    },
    {
      "cell_type": "code",
      "execution_count": 15,
      "metadata": {
        "id": "NKUo_0gxRD-a"
      },
      "outputs": [],
      "source": [
        "DEFAULT_SYSTEM_PROMPT = \"\"\"\n",
        "You are a helpful, respectful and honest assistant. Always answer as helpfully as possible, while being safe. Your answers should not include any harmful, unethical, racist, sexist, toxic, dangerous, or illegal content. Please ensure that your responses are socially unbiased and positive in nature.\n",
        "\n",
        "If a question does not make any sense, or is not factually coherent, explain why instead of answering something not correct. If you don't know the answer to a question, please don't share false information.\n",
        "\"\"\".strip()\n",
        "\n",
        "\n",
        "def generate_prompt(prompt: str, system_prompt: str = DEFAULT_SYSTEM_PROMPT) -> str:\n",
        "    return f\"\"\"\n",
        "[INST] <<SYS>>\n",
        "{system_prompt}\n",
        "<</SYS>>\n",
        "\n",
        "{prompt} [/INST]\n",
        "\"\"\".strip()"
      ]
    },
    {
      "cell_type": "code",
      "execution_count": 16,
      "metadata": {
        "id": "5H6rPBpEAALY"
      },
      "outputs": [],
      "source": [
        "streamer = TextStreamer(tokenizer, skip_prompt=True, skip_special_tokens=True)"
      ]
    },
    {
      "cell_type": "code",
      "execution_count": 17,
      "metadata": {
        "colab": {
          "base_uri": "https://localhost:8080/"
        },
        "id": "ZYaQDkDvVvIz",
        "outputId": "3c3ce268-b721-40ad-e16c-8dc2a992c7fe"
      },
      "outputs": [
        {
          "output_type": "stream",
          "name": "stderr",
          "text": [
            "The model 'LlamaGPTQForCausalLM' is not supported for text-generation. Supported models are ['BartForCausalLM', 'BertLMHeadModel', 'BertGenerationDecoder', 'BigBirdForCausalLM', 'BigBirdPegasusForCausalLM', 'BioGptForCausalLM', 'BlenderbotForCausalLM', 'BlenderbotSmallForCausalLM', 'BloomForCausalLM', 'CamembertForCausalLM', 'CodeGenForCausalLM', 'CpmAntForCausalLM', 'CTRLLMHeadModel', 'Data2VecTextForCausalLM', 'ElectraForCausalLM', 'ErnieForCausalLM', 'FalconForCausalLM', 'GitForCausalLM', 'GPT2LMHeadModel', 'GPT2LMHeadModel', 'GPTBigCodeForCausalLM', 'GPTNeoForCausalLM', 'GPTNeoXForCausalLM', 'GPTNeoXJapaneseForCausalLM', 'GPTJForCausalLM', 'LlamaForCausalLM', 'MarianForCausalLM', 'MBartForCausalLM', 'MegaForCausalLM', 'MegatronBertForCausalLM', 'MusicgenForCausalLM', 'MvpForCausalLM', 'OpenLlamaForCausalLM', 'OpenAIGPTLMHeadModel', 'OPTForCausalLM', 'PegasusForCausalLM', 'PLBartForCausalLM', 'ProphetNetForCausalLM', 'QDQBertLMHeadModel', 'ReformerModelWithLMHead', 'RemBertForCausalLM', 'RobertaForCausalLM', 'RobertaPreLayerNormForCausalLM', 'RoCBertForCausalLM', 'RoFormerForCausalLM', 'RwkvForCausalLM', 'Speech2Text2ForCausalLM', 'TransfoXLLMHeadModel', 'TrOCRForCausalLM', 'XGLMForCausalLM', 'XLMWithLMHeadModel', 'XLMProphetNetForCausalLM', 'XLMRobertaForCausalLM', 'XLMRobertaXLForCausalLM', 'XLNetLMHeadModel', 'XmodForCausalLM'].\n"
          ]
        }
      ],
      "source": [
        "text_pipeline = pipeline(\n",
        "    \"text-generation\",\n",
        "    model=model,\n",
        "    tokenizer=tokenizer,\n",
        "    max_new_tokens=1024,\n",
        "    temperature=0,\n",
        "    top_p=0.95,\n",
        "    repetition_penalty=1.15,\n",
        "    streamer=streamer,\n",
        ")"
      ]
    },
    {
      "cell_type": "code",
      "execution_count": 18,
      "metadata": {
        "id": "s0sKzP77ZCok"
      },
      "outputs": [],
      "source": [
        "llm = HuggingFacePipeline(pipeline=text_pipeline, model_kwargs={\"temperature\": 0})"
      ]
    },
    {
      "cell_type": "code",
      "execution_count": 19,
      "metadata": {
        "id": "J3RKlMe4DNMn"
      },
      "outputs": [],
      "source": [
        "SYSTEM_PROMPT = \"Use the following pieces of context to answer the question at the end. If you don't know the answer, just say that you don't know, don't try to make up an answer.\"\n",
        "\n",
        "template = generate_prompt(\n",
        "    \"\"\"\n",
        "{context}\n",
        "\n",
        "Question: {question}\n",
        "\"\"\",\n",
        "    system_prompt=SYSTEM_PROMPT,\n",
        ")"
      ]
    },
    {
      "cell_type": "code",
      "execution_count": 20,
      "metadata": {
        "id": "pJpTuSEoDDEJ"
      },
      "outputs": [],
      "source": [
        "prompt = PromptTemplate(template=template, input_variables=[\"context\", \"question\"])"
      ]
    },
    {
      "cell_type": "code",
      "execution_count": 21,
      "metadata": {
        "id": "0DC-RU6DZCIS"
      },
      "outputs": [],
      "source": [
        "qa_chain = RetrievalQA.from_chain_type(\n",
        "    llm=llm,\n",
        "    chain_type=\"stuff\",\n",
        "    retriever=db.as_retriever(search_kwargs={\"k\": 2}),\n",
        "    return_source_documents=True,\n",
        "    chain_type_kwargs={\"prompt\": prompt},\n",
        ")"
      ]
    },
    {
      "cell_type": "markdown",
      "metadata": {
        "id": "J7IWZ6H1ax4z"
      },
      "source": [
        "## Chat with Multiple PDFs"
      ]
    },
    {
      "cell_type": "markdown",
      "metadata": {
        "id": "jeWd6kQ5ct91"
      },
      "source": [
        "#Shell Plc"
      ]
    },
    {
      "cell_type": "code",
      "execution_count": 22,
      "metadata": {
        "colab": {
          "base_uri": "https://localhost:8080/"
        },
        "id": "f4Zwxp-RrHRj",
        "outputId": "87e91fee-d235-4840-97fa-5693ec2125c7"
      },
      "outputs": [
        {
          "output_type": "stream",
          "name": "stdout",
          "text": [
            " Based on the information provided, the answer to your question is:\n",
            "\n",
            "Direct GHG Emissions (Scope 1) in 2020 = 12.8 million tonnes CO2 equivalent.\n",
            "\n",
            "This can be found in the table labeled \"SCOPE 1 GHG EMISSIONS (OPERATIONAL CONTROL)\" under the column for \"2020\" and the row for \"Direct GHG Emissions (Scope 1)\".\n"
          ]
        }
      ],
      "source": [
        "result = qa_chain(\"What  is direct GHG Emissions scope 1  in 2020 \")\n",
        "\n"
      ]
    },
    {
      "cell_type": "code",
      "execution_count": 23,
      "metadata": {
        "colab": {
          "base_uri": "https://localhost:8080/"
        },
        "id": "xRgyeeGbrHRl",
        "outputId": "19965233-526b-4ffb-a8da-8f14ac2f9a0f"
      },
      "outputs": [
        {
          "output_type": "stream",
          "name": "stdout",
          "text": [
            " Based on the information provided, the answer to your question is:\n",
            "\n",
            "Scope 2 GHG Emissions (location-based method) in 2020 = 11 million tonnes CO2e.\n"
          ]
        }
      ],
      "source": [
        "result = qa_chain(\"What Scope 2GHG Emissions location- based method in 2020  \")\n",
        "\n"
      ]
    },
    {
      "cell_type": "code",
      "execution_count": null,
      "metadata": {
        "colab": {
          "base_uri": "https://localhost:8080/"
        },
        "id": "-BUZKt90rHRm",
        "outputId": "ecd5354a-cfda-46fb-bae0-e91e7de5921c"
      },
      "outputs": [
        {
          "name": "stdout",
          "output_type": "stream",
          "text": [
            " Based on the information provided in the table, the Scope 2 GHG emissions for the market-based method in 2020 were 9 million tonnes CO2e.\n"
          ]
        }
      ],
      "source": [
        "result = qa_chain(\"What Scope 2GHG Emissions ,market- based in 2020  metric tons CO2e\")\n",
        "\n"
      ]
    },
    {
      "cell_type": "code",
      "execution_count": 26,
      "metadata": {
        "colab": {
          "base_uri": "https://localhost:8080/"
        },
        "id": "xP4_RmKnrHRn",
        "outputId": "aab85c3f-ae75-438a-c2af-704af0d22f5e"
      },
      "outputs": [
        {
          "output_type": "stream",
          "name": "stdout",
          "text": [
            " Based on the information provided, the answer to your question is:\n",
            "\n",
            "Scope 3 GHG Emissions in 2020 = 3 + 3 + 3 + 3 + 3 = 15 million tonnes CO2e.\n",
            "\n",
            "Explanation:\n",
            "\n",
            "The table provides data for Scope 1, 2, and 3 GHG emissions for the year 2020. Scope 3 emissions are defined as \"Emissions related to activities from assets not owned or controlled by the company, but that the company has influence over.\"\n",
            "\n",
            "In this case, the Scope 3 emissions include:\n",
            "\n",
            "* Exported energy (3 million tonnes CO2e)\n",
            "* Upstream emissions (3 million tonnes CO2e)\n",
            "* Integrated Gas emissions (3 million tonnes CO2e)\n",
            "* Downstream emissions (3 million tonnes CO2e)\n",
            "\n",
            "Therefore, the total Scope 3 GHG emissions in 2020 were 3 + 3 + 3 + 3 = 15 million tonnes CO2e.\n"
          ]
        }
      ],
      "source": [
        "result = qa_chain(\"What Scope 3GHG Emissions in metric tons CO2e in 2020 \")\n"
      ]
    },
    {
      "cell_type": "code",
      "execution_count": null,
      "metadata": {
        "colab": {
          "base_uri": "https://localhost:8080/"
        },
        "id": "vsYlrOfZ5L5F",
        "outputId": "f226e007-351e-4102-b159-bb0fbff1ca5c"
      },
      "outputs": [
        {
          "name": "stdout",
          "output_type": "stream",
          "text": [
            " Based on the information provided in the table, the estimated Scope 3 GHG emissions from owned production in 2020 were 1.9 million tonnes of CO2 equivalents.\n"
          ]
        }
      ],
      "source": [
        "result = qa_chain(\" What were the estimated Scope 3 GHG emissions from owned production in 2020?\")"
      ]
    },
    {
      "cell_type": "code",
      "execution_count": null,
      "metadata": {
        "colab": {
          "base_uri": "https://localhost:8080/"
        },
        "id": "e4mj6t-GrHRo",
        "outputId": "b32f7e82-3248-42f0-df79-f1325fbe1084"
      },
      "outputs": [
        {
          "name": "stdout",
          "output_type": "stream",
          "text": [
            " Based on the information provided, the total amount of non-hazardous waste disposed of in 2020 was 1,465 thousand tonnes. This information can be found in the second line of the table labeled \"Non-hazardous waste disposed\" in the text.\n"
          ]
        }
      ],
      "source": [
        "result = qa_chain(\"What was the total amount of non-hazardous waste disposed of in 2020? \")\n",
        "\n"
      ]
    },
    {
      "cell_type": "code",
      "execution_count": null,
      "metadata": {
        "colab": {
          "base_uri": "https://localhost:8080/"
        },
        "id": "jUjfubKRxS6h",
        "outputId": "e3a5062d-1b20-4f20-949f-67683b2639e7"
      },
      "outputs": [
        {
          "name": "stdout",
          "output_type": "stream",
          "text": [
            " Based on the information provided in the text, the total amount of hazardous waste disposed of in 2020 was 555 thousand tonnes. This can be found in the table labeled \"Hazardous waste disposed (thousand tonnes)\" under the section titled \"WASTE MANAGEMENT.\"\n"
          ]
        }
      ],
      "source": [
        "result = qa_chain(\"What was the total amount of hazardous waste disposed of in 2020? \")\n",
        "\n"
      ]
    },
    {
      "cell_type": "code",
      "execution_count": null,
      "metadata": {
        "colab": {
          "base_uri": "https://localhost:8080/"
        },
        "id": "bK37LcrzrHRp",
        "outputId": "bba682f7-e1a2-4bd6-db6a-f0b422b56420"
      },
      "outputs": [
        {
          "name": "stdout",
          "output_type": "stream",
          "text": [
            " Based on the information provided in the text, the total amount of waste beneficially reused, recycled, or recovered in 2020 was 465 thousand tonnes. This information can be found in the table labeled \"Waste beneficially reused, recycled, or recovered\" under section [A].\n"
          ]
        }
      ],
      "source": [
        "result = qa_chain(\" What was the total amount of waste beneficially reused, recycled, or recovered in 2020? \")\n",
        "\n"
      ]
    },
    {
      "cell_type": "code",
      "execution_count": null,
      "metadata": {
        "colab": {
          "base_uri": "https://localhost:8080/"
        },
        "id": "8qlZ9NJHypZy",
        "outputId": "67f0008e-1374-43bd-bb77-7bff7fd5b8ab"
      },
      "outputs": [
        {
          "name": "stdout",
          "output_type": "stream",
          "text": [
            " Based on the information provided in the text, the total waste disposed in 2020 was:\n",
            "\n",
            "Total waste disposed = Hazardous waste disposed + Non-hazardous waste disposed\n",
            "= 555 + 1,465\n",
            "= 2,020 (thousand tonnes)\n",
            "\n",
            "Therefore, the answer is 2,020 thousand tonnes.\n"
          ]
        }
      ],
      "source": [
        "result = qa_chain(\" What was the Total  waste disposed in 2020? \")\n",
        "\n"
      ]
    },
    {
      "cell_type": "code",
      "execution_count": null,
      "metadata": {
        "colab": {
          "base_uri": "https://localhost:8080/"
        },
        "id": "Qzw3wcuDrHRq",
        "outputId": "dd348183-84ae-4b82-a19b-1ce1eb57ca67"
      },
      "outputs": [
        {
          "name": "stdout",
          "output_type": "stream",
          "text": [
            " Based on the information provided in the text, I can answer the following questions:\n",
            "\n",
            "What was the total water withdrawal in 2020?\n",
            "Answer: The total water withdrawal in 2020 was 171 million cubic meters.\n",
            "\n",
            "What was the total water consumption in 2020?\n",
            "Answer: The total water consumption in 2020 was 127 million cubic meters.\n",
            "\n",
            "What was the total water discharge in 2020?\n",
            "I cannot answer this question based on the information provided because there is no data given for water discharge in 2020.\n"
          ]
        }
      ],
      "source": [
        "result = qa_chain(\" what is   water usage and discharge  in 2020 ? \")\n",
        "\n"
      ]
    },
    {
      "cell_type": "code",
      "execution_count": null,
      "metadata": {
        "colab": {
          "base_uri": "https://localhost:8080/"
        },
        "id": "N7GZGKykz6zD",
        "outputId": "0cb8ec1f-af61-4e94-c8fb-f57ce417e634"
      },
      "outputs": [
        {
          "name": "stdout",
          "output_type": "stream",
          "text": [
            " Based on the information provided, the total water consumption in 2020 was 127 million cubic meters. This can be found in the \"Fresh water consumed\" column under the \"Water Use and Discharge\" section.\n"
          ]
        }
      ],
      "source": [
        "result = qa_chain(\" What was the total water consumption in 2020?\")\n",
        "\n"
      ]
    },
    {
      "cell_type": "code",
      "execution_count": null,
      "metadata": {
        "colab": {
          "base_uri": "https://localhost:8080/"
        },
        "id": "Bn_VRxuP0i_r",
        "outputId": "8dc830c1-8ed4-4d91-aa21-2ab2d6dcc7d4"
      },
      "outputs": [
        {
          "name": "stdout",
          "output_type": "stream",
          "text": [
            " Based on the information provided in the table, the total water returned in 2020 was 45 million cubic meters. This can be found in the \"Fresh water returned\" column under the \"Million cubic meters\" heading.\n"
          ]
        }
      ],
      "source": [
        "result = qa_chain(\"What was the total water returned in 2020?\")\n",
        "\n",
        "\n",
        "\n"
      ]
    },
    {
      "cell_type": "code",
      "execution_count": null,
      "metadata": {
        "colab": {
          "base_uri": "https://localhost:8080/"
        },
        "id": "Bcs9h3wp10AU",
        "outputId": "22f3b979-9f0e-4cc4-9068-11b0c83d43d8"
      },
      "outputs": [
        {
          "name": "stdout",
          "output_type": "stream",
          "text": [
            " Based on the information provided in the table, the total energy usage in 2020 was 269 million megawatt-hours (MWh). This is calculated by adding up the imported electricity, imported steam and heat, exported electricity, and exported steam and heat, and then subtracting the renewable sources - purchased electricity, renewable sources - purchased steam, and renewable sources - electricity exported to grid.\n"
          ]
        }
      ],
      "source": [
        "result = qa_chain(\" what Total energy usage  in 2020in Energy usage table ? \")"
      ]
    },
    {
      "cell_type": "code",
      "execution_count": null,
      "metadata": {
        "colab": {
          "base_uri": "https://localhost:8080/"
        },
        "id": "liiQskRyFwyG",
        "outputId": "1f788ecb-e762-4169-8ce8-5a8a644a82d4"
      },
      "outputs": [
        {
          "name": "stdout",
          "output_type": "stream",
          "text": [
            " Based on the information provided in the table, the direct GHG Emissions scope 1 in 2020 was 63 million tonnes of CO2 equivalent.\n"
          ]
        }
      ],
      "source": [
        "result = qa_chain(\"What  is direct GHG Emissions scope 1  in 2020 \")\n",
        "\n"
      ]
    },
    {
      "cell_type": "code",
      "execution_count": null,
      "metadata": {
        "colab": {
          "base_uri": "https://localhost:8080/"
        },
        "id": "Re4l16xnFwyH",
        "outputId": "3cd2ab0c-9226-4041-deb1-a1860c7bba21"
      },
      "outputs": [
        {
          "name": "stdout",
          "output_type": "stream",
          "text": [
            " Based on the information provided, the answer to your question is:\n",
            "\n",
            "Scope 2 GHG Emissions (location-based method) in 2020 = 11 million tonnes CO2e.\n"
          ]
        }
      ],
      "source": [
        "result = qa_chain(\"What Scope 2GHG Emissions location- based method in 2020  \")\n",
        "\n"
      ]
    },
    {
      "cell_type": "code",
      "execution_count": null,
      "metadata": {
        "colab": {
          "base_uri": "https://localhost:8080/"
        },
        "id": "VsRv1sK1FwyI",
        "outputId": "ecd5354a-cfda-46fb-bae0-e91e7de5921c"
      },
      "outputs": [
        {
          "name": "stdout",
          "output_type": "stream",
          "text": [
            " Based on the information provided in the table, the Scope 2 GHG emissions for the market-based method in 2020 were 9 million tonnes CO2e.\n"
          ]
        }
      ],
      "source": [
        "result = qa_chain(\"What Scope 2GHG Emissions ,market- based in 2020  metric tons CO2e\")\n",
        "\n"
      ]
    },
    {
      "cell_type": "code",
      "execution_count": null,
      "metadata": {
        "colab": {
          "base_uri": "https://localhost:8080/"
        },
        "id": "tP3BK3msFwyI",
        "outputId": "b6ba8815-e9a7-46f6-bafd-57eb33d6d238"
      },
      "outputs": [
        {
          "name": "stdout",
          "output_type": "stream",
          "text": [
            " Based on the information provided in the table, the answer to the question \"What Scope 3 GHG emissions in 2020?\" would be:\n",
            "\n",
            "\"We do not have the 2020 data yet, as it will be available in June 2021.\"\n",
            "\n",
            "The table only provides information up to 2019, and there is no mention of 2020 data. Therefore, the answer cannot be determined based on the given information.\n"
          ]
        }
      ],
      "source": [
        "result = qa_chain(\"What Scope 3GHG Emissions in 2020 \")\n"
      ]
    },
    {
      "cell_type": "code",
      "execution_count": null,
      "metadata": {
        "colab": {
          "base_uri": "https://localhost:8080/"
        },
        "id": "H4gktKbrFwyJ",
        "outputId": "f226e007-351e-4102-b159-bb0fbff1ca5c"
      },
      "outputs": [
        {
          "name": "stdout",
          "output_type": "stream",
          "text": [
            " Based on the information provided in the table, the estimated Scope 3 GHG emissions from owned production in 2020 were 1.9 million tonnes of CO2 equivalents.\n"
          ]
        }
      ],
      "source": [
        "result = qa_chain(\" What were the estimated Scope 3 GHG emissions from owned production in 2020?\")"
      ]
    },
    {
      "cell_type": "code",
      "execution_count": null,
      "metadata": {
        "colab": {
          "base_uri": "https://localhost:8080/"
        },
        "id": "WgdiL8waFwyK",
        "outputId": "d0e6e915-deb4-47e4-94ab-150e9a3fb1ec"
      },
      "outputs": [
        {
          "name": "stdout",
          "output_type": "stream",
          "text": [
            " Based on the information provided in the text, I can answer your question.\n",
            "\n",
            "According to the table labeled \"ENV-7 – 306-3\", the total hazardous waste disposed of in 2020 was 698 thousand tonnes.\n"
          ]
        }
      ],
      "source": [
        "result = qa_chain(\"What was the total hazardous waste in 2020? \")\n",
        "\n"
      ]
    },
    {
      "cell_type": "code",
      "execution_count": null,
      "metadata": {
        "colab": {
          "base_uri": "https://localhost:8080/"
        },
        "id": "TpsBumCFFwyL",
        "outputId": "e3a5062d-1b20-4f20-949f-67683b2639e7"
      },
      "outputs": [
        {
          "name": "stdout",
          "output_type": "stream",
          "text": [
            " Based on the information provided in the text, the total amount of hazardous waste disposed of in 2020 was 555 thousand tonnes. This can be found in the table labeled \"Hazardous waste disposed (thousand tonnes)\" under the section titled \"WASTE MANAGEMENT.\"\n"
          ]
        }
      ],
      "source": [
        "result = qa_chain(\"What was the total amount of hazardous waste disposed of in 2020? \")\n",
        "\n"
      ]
    },
    {
      "cell_type": "code",
      "execution_count": null,
      "metadata": {
        "colab": {
          "base_uri": "https://localhost:8080/"
        },
        "id": "y7jzas4sFwyL",
        "outputId": "bba682f7-e1a2-4bd6-db6a-f0b422b56420"
      },
      "outputs": [
        {
          "name": "stdout",
          "output_type": "stream",
          "text": [
            " Based on the information provided in the text, the total amount of waste beneficially reused, recycled, or recovered in 2020 was 465 thousand tonnes. This information can be found in the table labeled \"Waste beneficially reused, recycled, or recovered\" under section [A].\n"
          ]
        }
      ],
      "source": [
        "result = qa_chain(\" What was the total amount of waste beneficially reused, recycled, or recovered in 2020? \")\n",
        "\n"
      ]
    },
    {
      "cell_type": "code",
      "execution_count": null,
      "metadata": {
        "colab": {
          "base_uri": "https://localhost:8080/"
        },
        "id": "RiYhcDyfFwyM",
        "outputId": "67f0008e-1374-43bd-bb77-7bff7fd5b8ab"
      },
      "outputs": [
        {
          "name": "stdout",
          "output_type": "stream",
          "text": [
            " Based on the information provided in the text, the total waste disposed in 2020 was:\n",
            "\n",
            "Total waste disposed = Hazardous waste disposed + Non-hazardous waste disposed\n",
            "= 555 + 1,465\n",
            "= 2,020 (thousand tonnes)\n",
            "\n",
            "Therefore, the answer is 2,020 thousand tonnes.\n"
          ]
        }
      ],
      "source": [
        "result = qa_chain(\" What was the Total  waste disposed in 2020? \")\n",
        "\n"
      ]
    },
    {
      "cell_type": "code",
      "execution_count": null,
      "metadata": {
        "colab": {
          "base_uri": "https://localhost:8080/"
        },
        "id": "RG9d8NBqFwyN",
        "outputId": "dd348183-84ae-4b82-a19b-1ce1eb57ca67"
      },
      "outputs": [
        {
          "name": "stdout",
          "output_type": "stream",
          "text": [
            " Based on the information provided in the text, I can answer the following questions:\n",
            "\n",
            "What was the total water withdrawal in 2020?\n",
            "Answer: The total water withdrawal in 2020 was 171 million cubic meters.\n",
            "\n",
            "What was the total water consumption in 2020?\n",
            "Answer: The total water consumption in 2020 was 127 million cubic meters.\n",
            "\n",
            "What was the total water discharge in 2020?\n",
            "I cannot answer this question based on the information provided because there is no data given for water discharge in 2020.\n"
          ]
        }
      ],
      "source": [
        "result = qa_chain(\" what is   water usage and discharge  in 2020 ? \")\n",
        "\n"
      ]
    },
    {
      "cell_type": "code",
      "execution_count": null,
      "metadata": {
        "colab": {
          "base_uri": "https://localhost:8080/"
        },
        "id": "5BLctIveFwyO",
        "outputId": "0cb8ec1f-af61-4e94-c8fb-f57ce417e634"
      },
      "outputs": [
        {
          "name": "stdout",
          "output_type": "stream",
          "text": [
            " Based on the information provided, the total water consumption in 2020 was 127 million cubic meters. This can be found in the \"Fresh water consumed\" column under the \"Water Use and Discharge\" section.\n"
          ]
        }
      ],
      "source": [
        "result = qa_chain(\" What was the total water consumption in 2020?\")\n",
        "\n"
      ]
    },
    {
      "cell_type": "code",
      "execution_count": null,
      "metadata": {
        "colab": {
          "base_uri": "https://localhost:8080/"
        },
        "id": "fpfyeFccFwyO",
        "outputId": "8dc830c1-8ed4-4d91-aa21-2ab2d6dcc7d4"
      },
      "outputs": [
        {
          "name": "stdout",
          "output_type": "stream",
          "text": [
            " Based on the information provided in the table, the total water returned in 2020 was 45 million cubic meters. This can be found in the \"Fresh water returned\" column under the \"Million cubic meters\" heading.\n"
          ]
        }
      ],
      "source": [
        "result = qa_chain(\"What was the total water returned in 2020?\")\n",
        "\n",
        "\n",
        "\n"
      ]
    },
    {
      "cell_type": "code",
      "execution_count": null,
      "metadata": {
        "colab": {
          "base_uri": "https://localhost:8080/"
        },
        "id": "8J7XsMWhFwyP",
        "outputId": "591529ce-9938-4b28-c8f5-bc21e1bb090f"
      },
      "outputs": [
        {
          "name": "stdout",
          "output_type": "stream",
          "text": [
            " Based on the information provided, the total volume of waste disposed of in 2020 was 2,020 thousand tonnes.\n"
          ]
        }
      ],
      "source": [
        "result = qa_chain(\" what Total Total volume of waste disposed of in 2020   ? \")"
      ]
    },
    {
      "cell_type": "code",
      "source": [
        "result = qa_chain(\" what isTotal number of  Employees  in 2020 ? \")"
      ],
      "metadata": {
        "colab": {
          "base_uri": "https://localhost:8080/"
        },
        "id": "vike8B9mv2Ab",
        "outputId": "f3a7f126-927a-41b3-a729-f99d4a0a8c83"
      },
      "execution_count": 24,
      "outputs": [
        {
          "output_type": "stream",
          "name": "stdout",
          "text": [
            " Based on the information provided, the total number of employees in 2020 was 87,000.\n"
          ]
        }
      ]
    },
    {
      "cell_type": "markdown",
      "metadata": {
        "id": "iayzZ_vHTX7e"
      },
      "source": [
        "#SMSUNG"
      ]
    },
    {
      "cell_type": "code",
      "execution_count": 25,
      "metadata": {
        "colab": {
          "base_uri": "https://localhost:8080/"
        },
        "id": "IqgY2uBFTbOJ",
        "outputId": "30f96476-845a-43a3-97cc-cf1a7c285017"
      },
      "outputs": [
        {
          "output_type": "stream",
          "name": "stdout",
          "text": [
            " Based on the information provided, the direct GHG emissions (Scope 1) in 2020 were 5,726 thousand tonnes of CO2e.\n"
          ]
        }
      ],
      "source": [
        "result = qa_chain(\"What Direct GHG emissions Scope 1  in 2020 ?\")\n",
        "\n",
        "\n"
      ]
    },
    {
      "cell_type": "code",
      "source": [
        "result = qa_chain(\"What  Scope 2 location -based in tons in 2020 ?\")\n",
        "\n",
        "\n"
      ],
      "metadata": {
        "colab": {
          "base_uri": "https://localhost:8080/"
        },
        "id": "UeUNGYuJo6ZJ",
        "outputId": "668f6e5a-9a4b-41dd-fb82-fd61094ab2a1"
      },
      "execution_count": 28,
      "outputs": [
        {
          "output_type": "stream",
          "name": "stdout",
          "text": [
            " Based on the information provided, I can answer your question.\n",
            "\n",
            "According to the table, the Scope 2 location-based emissions in tons for 2020 are:\n",
            "\n",
            "* Suppliers: 8,030 thousand tonnes CO2e\n",
            "* Logistics: 6,682 thousand tonnes CO2e\n",
            "\n",
            "So, the total Scope 2 location-based emissions in 2020 were 14,692 thousand tonnes CO2e.\n"
          ]
        }
      ]
    },
    {
      "cell_type": "code",
      "source": [
        "result = qa_chain(\"What  Scope 2 market -based in tons in 2020 ?\")"
      ],
      "metadata": {
        "colab": {
          "base_uri": "https://localhost:8080/"
        },
        "id": "QvW6KnVNpc-q",
        "outputId": "662ac737-6b0b-486c-8db4-aba9b2dc3ae9"
      },
      "execution_count": 29,
      "outputs": [
        {
          "output_type": "stream",
          "name": "stdout",
          "text": [
            " Based on the information provided, I can answer your question.\n",
            "\n",
            "The Scope 2 market-based emissions in tons for 2020 are not explicitly stated in the given context. However, we can calculate the total Scope 2 emissions based on the information provided.\n",
            "\n",
            "According to the table, the indirect GHG emissions (Scope 2) in 2020 were 10,266 thousand tonnes CO2e. This includes emissions from purchased energy (PFCs, HFCs), employee travel, and waste disposal.\n",
            "\n",
            "Therefore, the answer to your question is:\n",
            "\n",
            "Scope 2 market-based emissions in tons for 2020 = 10,266 thousand tonnes CO2e.\n"
          ]
        }
      ]
    },
    {
      "cell_type": "code",
      "execution_count": 24,
      "metadata": {
        "colab": {
          "base_uri": "https://localhost:8080/"
        },
        "id": "YHTpuGxcTbOO",
        "outputId": "643fab45-eb7e-44d8-f9c8-ba1c998a504b"
      },
      "outputs": [
        {
          "output_type": "stream",
          "name": "stdout",
          "text": [
            " Based on the information provided in the table, the GHG emissions from other sources (Scope 3) for supplies in 2020 were 8,030 thousand tonnes CO2e.\n"
          ]
        }
      ],
      "source": [
        "result = qa_chain(\"What   GHG emissions from other sources Scope 3  green house table   supplies thousand tonnes CO2e in 2020\")\n",
        "\n",
        "\n"
      ]
    },
    {
      "cell_type": "code",
      "execution_count": null,
      "metadata": {
        "colab": {
          "base_uri": "https://localhost:8080/"
        },
        "id": "wOi3XFU2dhUt",
        "outputId": "264e1bcb-4a7d-47d9-c8a6-a850c37ae6f2"
      },
      "outputs": [
        {
          "name": "stdout",
          "output_type": "stream",
          "text": [
            " Based on the information provided in the table, the GHG emissions from other sources (Scope 3) for employees' business trips in 2020 were 14 thousand tonnes CO2e.\n"
          ]
        }
      ],
      "source": [
        "result = qa_chain(\"What   GHG emissions from other sources Scope 3  green house table   employee bussiness thousand tonnes CO2e in 2020\")\n",
        "\n",
        "\n"
      ]
    },
    {
      "cell_type": "code",
      "execution_count": null,
      "metadata": {
        "colab": {
          "base_uri": "https://localhost:8080/"
        },
        "id": "39ks3NqueD5G",
        "outputId": "91b29877-7c5c-4f42-845f-e36f8a837211"
      },
      "outputs": [
        {
          "name": "stdout",
          "output_type": "stream",
          "text": [
            " Based on the information provided, here are the answers to your questions:\n",
            "\n",
            "1. GHG emissions from other sources (Scope 3):\n",
            "The table shows that the company had GHG emissions from other sources (Scope 3) of 7,952, 8,278, and 8,030 thousand tonnes CO2e in 2018, 2019, and 2020, respectively.\n",
            "2. Logistics GHG emissions:\n",
            "The table shows that the company had logistics GHG emissions of 7,846, 8,223, and 6,682 thousand tonnes CO2e in 2018, 2019, and 2020, respectively.\n",
            "3. GHG emissions from business trips:\n",
            "The table shows that the company had GHG emissions from business trips of 110, 106, and 14 thousand tonnes CO2e in 2018, 2019, and 2020, respectively.\n"
          ]
        }
      ],
      "source": [
        "result = qa_chain(\"What   GHG emissions from other sources Scope 3  green house table   logistics  \")\n",
        "\n"
      ]
    },
    {
      "cell_type": "code",
      "source": [
        "result = qa_chain(\" what isTotal hazardous waste  produced in tons in 2020? \")"
      ],
      "metadata": {
        "colab": {
          "base_uri": "https://localhost:8080/"
        },
        "id": "CAlUdvhMq38i",
        "outputId": "29aafc6f-8ba7-4035-c058-524e9bb7efc3"
      },
      "execution_count": 30,
      "outputs": [
        {
          "output_type": "stream",
          "name": "stdout",
          "text": [
            " Based on the information provided, I can answer your question.\n",
            "\n",
            "The total hazardous waste produced in tons in 2020 was 345,866 tons. This is calculated by adding up the amounts of hazardous waste produced in each year:\n",
            "\n",
            "396,690 + 321,627 + 345,866 = 345,866\n",
            "\n",
            "Please note that this answer is based on the information provided and may not be accurate if other factors are taken into account.\n"
          ]
        }
      ]
    },
    {
      "cell_type": "code",
      "source": [
        "result = qa_chain(\"What Total amount of   waste of produced in tons  in 2020 ? \")"
      ],
      "metadata": {
        "colab": {
          "base_uri": "https://localhost:8080/"
        },
        "id": "5OI3OWxWrEiG",
        "outputId": "e60af973-cfcc-45e5-f410-6e144b9d8695"
      },
      "execution_count": 31,
      "outputs": [
        {
          "output_type": "stream",
          "name": "stdout",
          "text": [
            " Based on the information provided, the total amount of waste produced in 2020 was 1,181,741 tons. This includes general waste (835,875 tons), hazardous waste (345,866 tons), and wastewater discharge (109,201 tons).\n"
          ]
        }
      ]
    },
    {
      "cell_type": "code",
      "source": [
        "result = qa_chain(\" what isTotal number of  Employees  in 2020 ? \")"
      ],
      "metadata": {
        "colab": {
          "base_uri": "https://localhost:8080/"
        },
        "id": "EGaBsv4GrNk-",
        "outputId": "7e23fbae-dfd4-4708-ae2a-20df4eda6a8c"
      },
      "execution_count": 32,
      "outputs": [
        {
          "output_type": "stream",
          "name": "stdout",
          "text": [
            " Based on the information provided, I can answer the following questions:\n",
            "\n",
            "1. What was the total number of employees in 2020?\n",
            "\n",
            "According to the information provided, the total number of employees in 2020 was 137,365. This includes both direct employees and contractors.\n",
            "\n",
            "2. What was the turnover rate for global employees excluding South Korea in 2020?\n",
            "\n",
            "The turnover rate for global employees excluding South Korea in 2020 was 17.9%.\n",
            "\n",
            "3. What was the number of contractors and apprentices in South Korea in 2020?\n",
            "\n",
            "The number of contractors and apprentices in South Korea in 2020 was 2,552.\n",
            "\n",
            "I do not have the answers to the following questions:\n",
            "\n",
            "4. What was the total number of employees in 2018 and 2019?\n",
            "\n",
            "The information provided does not include the total number of employees in 2018 and 2019.\n",
            "\n",
            "5. What was the waste management performance in 2020?\n",
            "\n",
            "The information provided does not include the waste management performance in 2020.\n",
            "\n",
            "6. What was the water management performance in 2020?\n",
            "\n",
            "The information provided does not include the water management performance in 2020.\n"
          ]
        }
      ]
    },
    {
      "cell_type": "code",
      "execution_count": null,
      "metadata": {
        "colab": {
          "base_uri": "https://localhost:8080/"
        },
        "id": "NdMunSCuTbOR",
        "outputId": "d4f747ed-03fa-4300-a169-420d37eb5db8"
      },
      "outputs": [
        {
          "name": "stdout",
          "output_type": "stream",
          "text": [
            " Based on the information provided in the sustainability report, the total industrial water usage for Samsung Electronics in 2020 was 75,243 thousand tonnes. This is calculated by adding the tap water usage (54,434 thousand tonnes) and underground water usage (959 thousand tonnes), and then subtracting the reused water (62,371 thousand tonnes) and ultra-pure water supply amount (57,226 thousand tonnes).\n",
            "\n",
            "Therefore, the answer to your question is:\n",
            "\n",
            "Total industrial water usage = Tap water usage + Underground water usage - Reused water - Ultra-pure water supply amount\n",
            "= 54,434 + 959 - 62,371 - 57,226\n",
            "= 75,243 thousand tonnes\n"
          ]
        }
      ],
      "source": [
        "result = qa_chain(\" what is    total water usage industerial water in thousand tonnes\")\n",
        "\n",
        "\n"
      ]
    },
    {
      "cell_type": "code",
      "execution_count": null,
      "metadata": {
        "colab": {
          "base_uri": "https://localhost:8080/"
        },
        "id": "6BwIjjObiqbt",
        "outputId": "4883f940-9c64-466f-dafe-444d418bac44"
      },
      "outputs": [
        {
          "name": "stdout",
          "output_type": "stream",
          "text": [
            " Based on the information provided in the sustainability report, the total water usage, including underground water, can be calculated as follows:\n",
            "\n",
            "Total water usage = Surface water withdrawal + Underground water withdrawal\n",
            "\n",
            "According to the table, the surface water withdrawal was 142,294 thousand tonnes, and the underground water withdrawal was 585 thousand tonnes. Therefore, the total water usage is:\n",
            "\n",
            "Total water usage = 142,294 + 585 = 142,879 thousand tonnes\n",
            "\n",
            "So, the answer is:\n",
            "\n",
            "Total water usage underground water in thousand tonnes = 585 thousand tonnes.\n"
          ]
        }
      ],
      "source": [
        "result = qa_chain(\" what is    total water usage underground water in thousand tonnes\")\n",
        "\n",
        "\n"
      ]
    },
    {
      "cell_type": "code",
      "execution_count": null,
      "metadata": {
        "colab": {
          "base_uri": "https://localhost:8080/"
        },
        "id": "1o2PqFq_XlIq",
        "outputId": "5cc8c58d-5dc2-4ffc-8921-fc9bc9a3ca05"
      },
      "outputs": [
        {
          "name": "stdout",
          "output_type": "stream",
          "text": [
            " Based on the information provided, the total water usage in 2020 is not explicitly stated. However, we can calculate it by adding the industrial water usage, tap water usage, and underground water usage.\n",
            "\n",
            "Industrial water usage in 2020: 78,837 + 81,984 + 75,243 = 235,064 thousand tonnes\n",
            "\n",
            "Tap water usage in 2020: 54,434 + 51,839 + 66,466 = 172,739 thousand tonnes\n",
            "\n",
            "Underground water usage in 2020: 959 + 657 + 585 = 2,201 thousand tonnes\n",
            "\n",
            "Total water usage in 2020: 235,064 + 172,739 + 2,201 = 410,004 thousand tonnes\n",
            "\n",
            "Therefore, the total water usage in 2020 is 410,004 thousand tonnes.\n"
          ]
        }
      ],
      "source": [
        "result = qa_chain(\" what is total  water usage   in 2020 ? \")"
      ]
    },
    {
      "cell_type": "code",
      "source": [],
      "metadata": {
        "id": "OTvHOZ_TqpCl"
      },
      "execution_count": null,
      "outputs": []
    },
    {
      "cell_type": "code",
      "execution_count": null,
      "metadata": {
        "colab": {
          "base_uri": "https://localhost:8080/"
        },
        "id": "EIrLWahmTbOR",
        "outputId": "58ecc1b9-6691-473c-ab96-abbebe7f20f4"
      },
      "outputs": [
        {
          "name": "stdout",
          "output_type": "stream",
          "text": [
            " Based on the information provided, I can answer your question.\n",
            "\n",
            "Employee benefit expenses in 2020 were KRW 4,655 billion.\n"
          ]
        }
      ],
      "source": [
        "result = qa_chain(\"what is  Employee benefit expenses  in 2020 KRW billion?\")\n",
        "\n",
        "\n",
        "\n",
        "\n"
      ]
    },
    {
      "cell_type": "code",
      "execution_count": null,
      "metadata": {
        "colab": {
          "base_uri": "https://localhost:8080/"
        },
        "id": "yglNF3HCp6TN",
        "outputId": "48b343a7-a0d7-42bd-8a1e-15ccc042dbe9"
      },
      "outputs": [
        {
          "name": "stdout",
          "output_type": "stream",
          "text": [
            " Based on the information provided, the percentage of female employees in 2020 was 37.3%.\n"
          ]
        }
      ],
      "source": [
        "result = qa_chain(\"What is Percentage of female employees1) in 2020?\")\n",
        "\n",
        "\n",
        "\n",
        "\n",
        "\n"
      ]
    },
    {
      "cell_type": "code",
      "execution_count": null,
      "metadata": {
        "colab": {
          "base_uri": "https://localhost:8080/"
        },
        "id": "wCfjRbN9U3R0",
        "outputId": "0b87e31c-3afa-4d89-e035-791c51e85e88"
      },
      "outputs": [
        {
          "name": "stdout",
          "output_type": "stream",
          "text": [
            " Based on the information provided, I can answer the following questions:\n",
            "\n",
            "1. What was the percentage of female employees by job title in 2020?\n",
            "\n",
            "According to the table, the percentage of female employees by job title in 2020 was:\n",
            "\n",
            "* Staff: 46.3%\n",
            "* Managers: 15.3%\n",
            "* Executives: 6.6%\n",
            "\n",
            "So, the percentage of female employees by job title in 2020 was:\n",
            "\n",
            "46.3% + 15.3% + 6.6% = 68.2%\n",
            "\n",
            "Therefore, the answer is: 68.2%.\n"
          ]
        }
      ],
      "source": [
        "result = qa_chain(\"What was the percentage of female employees by job title in 2020?\")\n",
        "\n",
        "\n",
        "\n",
        "\n",
        "\n",
        "\n"
      ]
    },
    {
      "cell_type": "markdown",
      "metadata": {
        "id": "JLA1uFPOvFn2"
      },
      "source": [
        "#Microsoft"
      ]
    },
    {
      "cell_type": "code",
      "execution_count": null,
      "metadata": {
        "colab": {
          "base_uri": "https://localhost:8080/"
        },
        "id": "_ZrWen-yC2dn",
        "outputId": "79f14c75-1631-4f70-ea3a-f08dc0f3bc8b"
      },
      "outputs": [
        {
          "name": "stdout",
          "output_type": "stream",
          "text": [
            " Based on the information provided in the appendix, the answer to the question \"What is Scope 1– CO2 Greenhouse gas emissions (mtCO2e) FY20?\" is:\n",
            "\n",
            "Scope 1– CO2 Greenhouse gas emissions (mtCO2e) FY20 = 96,700.\n",
            "\n",
            "This information can be found in Table 7 of the appendix, under the heading \"Greenhouse Gas Emissions (mtCO2e)\".\n"
          ]
        }
      ],
      "source": [
        "\n",
        "result = qa_chain(\"What is Scope 1– CO2 Greenhouse gas emissions (mtCO2e) FY20?\")\n",
        "\n",
        "\n",
        "\n",
        "\n",
        "\n",
        "\n",
        "\n",
        "\n",
        "\n",
        "\n",
        "\n"
      ]
    },
    {
      "cell_type": "code",
      "execution_count": null,
      "metadata": {
        "colab": {
          "base_uri": "https://localhost:8080/"
        },
        "id": "rgSTpdwkFJ9s",
        "outputId": "bf39584e-3c90-4d8c-a4ae-1bbd95cc4bfd"
      },
      "outputs": [
        {
          "name": "stdout",
          "output_type": "stream",
          "text": [
            " Based on the information provided in the appendix, I can answer the question.\n",
            "\n",
            "According to the table in Appendix B, the Scope 2 – Location-based – Greenhouse gas emissions (mtCO2e) for FY20 are:\n",
            "\n",
            "Europe, Middle East, Africa: 860,858\n",
            "Asia: 804,567\n",
            "Latin America: 3,871\n",
            "North America: 43,859\n",
            "\n",
            "Therefore, the total Scope 2 – Location-based – Greenhouse gas emissions (mtCO2e) for FY20 are:\n",
            "\n",
            "860,858 + 804,567 + 3,871 + 43,859 = 1,792,255 mtCO2e.\n"
          ]
        }
      ],
      "source": [
        "result = qa_chain(\"What is Scope 2 – Location-based²  Greenhouse gas emissions (mtCO2e)  FY20? \")"
      ]
    },
    {
      "cell_type": "code",
      "execution_count": null,
      "metadata": {
        "colab": {
          "base_uri": "https://localhost:8080/"
        },
        "id": "wwy0j8I3Emtm",
        "outputId": "c5a1566b-87d0-42ad-8679-43934150cd81"
      },
      "outputs": [
        {
          "name": "stderr",
          "output_type": "stream",
          "text": [
            "/usr/local/lib/python3.10/dist-packages/transformers/pipelines/base.py:1083: UserWarning: You seem to be using the pipelines sequentially on GPU. In order to maximize efficiency please use a dataset\n",
            "  warnings.warn(\n"
          ]
        },
        {
          "name": "stdout",
          "output_type": "stream",
          "text": [
            " Based on the information provided, I cannot determine what Scope 2 - Market-based Greenhouse gas emissions (mtCO2e) FY20 is. The information provided does not include any data or information about Scope 2 emissions for FY20.\n"
          ]
        }
      ],
      "source": [
        "result = qa_chain(\"What is Scope 2 – Market-based Greenhouse gas emissions (mtCO2e)FY20?\")"
      ]
    },
    {
      "cell_type": "code",
      "execution_count": null,
      "metadata": {
        "colab": {
          "base_uri": "https://localhost:8080/"
        },
        "id": "9-t_tDi6FWAR",
        "outputId": "01b2b0ae-c4e2-4261-b0a7-428547b99aa4"
      },
      "outputs": [
        {
          "name": "stdout",
          "output_type": "stream",
          "text": [
            " Based on the information provided, I can answer the question.\n",
            "\n",
            "Scope 3 – GHG emissions from all categories FY20 = 1,870,000.\n",
            "\n",
            "This figure is calculated by adding up all the emissions from the different Scope 3 categories listed in the table:\n",
            "\n",
            "Scope 3 – Fuel- and energy-related activities (Location-based): 550,000 + 650,000 = 1,200,000\n",
            "Scope 3 – Fuel- and energy-related activities (Market-based): 89,000 + 110,000 = 199,000\n",
            "Scope 3 – Upstream transportation: 50,000 + 100,000 = 150,000\n",
            "Scope 3 – Waste: 700 + 1,100 = 1,800\n",
            "Scope 3 – Business travel: 419,020 + 461,787 = 880,807\n",
            "Scope 3 – Employee commuting: 343,000 + 345,000 = 688,000\n",
            "Scope 3 – Downstream transportation: 85,000 + 57,000 = 142,000\n",
            "Scope 3 – Use of sold products: 4,103,000 + 3,753,000 = 7,856,000\n",
            "Scope 3 – End-of-life of sold products: 31,000 + 18,000 = 59,000\n",
            "Scope 3 – Downstream leased assets: 700 + 800 = 1,500\n",
            "\n",
            "Total Scope 3 emissions = 1,200,000 + 199,000 + 150,000 + 1,800 + 880,807 + 688,000 + 142,000 + 7,856,000 + 59,000 + 1,500 = 1,870,000.\n"
          ]
        }
      ],
      "source": [
        "result = qa_chain(\"What is Scope 3 – GHG emissions from all categories FY20? \")\n"
      ]
    },
    {
      "cell_type": "code",
      "execution_count": null,
      "metadata": {
        "colab": {
          "base_uri": "https://localhost:8080/"
        },
        "id": "o02GfRFYFb0U",
        "outputId": "ed5c55db-39cc-4435-82dd-1d8b648b734c"
      },
      "outputs": [
        {
          "name": "stdout",
          "output_type": "stream",
          "text": [
            " Based on the information provided, I can answer your question.\n",
            "\n",
            "The total hazardous waste produced in tons in FY20 was 7,280 tons. This information can be found in the second line of the text under the heading \"Recycled Hazardous Waste\".\n"
          ]
        }
      ],
      "source": [
        "result = qa_chain(\" what isTotal hazardous waste  produced in tons in FY20? \")"
      ]
    },
    {
      "cell_type": "code",
      "execution_count": null,
      "metadata": {
        "colab": {
          "base_uri": "https://localhost:8080/"
        },
        "id": "3jP3_Og5FhHq",
        "outputId": "808a6433-c241-4c2b-a635-987953e0cd94"
      },
      "outputs": [
        {
          "name": "stdout",
          "output_type": "stream",
          "text": [
            " Based on the information provided, I can see that the total amount of waste produced in tons in 2020 is not explicitly stated. However, I can calculate it based on the information given.\n",
            "\n",
            "From the table, we have:\n",
            "\n",
            "* Recycled hazardous waste: 2,122 + 1,376 = 3,500 tons\n",
            "* Solid waste diverted: 60,000 tons\n",
            "\n",
            "So, the total amount of waste produced in tons in 2020 would be:\n",
            "\n",
            "3,500 + 60,000 = 63,500 tons\n",
            "\n",
            "Therefore, the answer is approximately 63,500 tons.\n"
          ]
        }
      ],
      "source": [
        "result = qa_chain(\"What Total amount of   waste of produced in tons  in 2020 ? \")"
      ]
    },
    {
      "cell_type": "code",
      "execution_count": null,
      "metadata": {
        "colab": {
          "base_uri": "https://localhost:8080/"
        },
        "id": "XDv0M8tVFl8B",
        "outputId": "99cde90b-f35c-467d-e1f7-e1880eb6319d"
      },
      "outputs": [
        {
          "name": "stdout",
          "output_type": "stream",
          "text": [
            " Based on the information provided in the table, the water withdrawals for FY20 are 7,618,089 cubic meters.\n"
          ]
        }
      ],
      "source": [
        "result = qa_chain(\" what is  water withdrawals  FY20? \")"
      ]
    },
    {
      "cell_type": "code",
      "execution_count": null,
      "metadata": {
        "colab": {
          "base_uri": "https://localhost:8080/"
        },
        "id": "L3c_uwajFrJ-",
        "outputId": "a406de4a-fe80-4954-a2e3-46cb42a9993c"
      },
      "outputs": [
        {
          "name": "stdout",
          "output_type": "stream",
          "text": [
            " Based on the information provided in the fact sheet, there is no direct mention of the total number of employees in 2020. However, we can infer that the company had at least 1,602 employees in 2020 based on the landfilled waste category, which states that 1,602 metric tons of waste were landfilled in 2020. This is because the company reports waste data in metric tons, and each ton of waste is equivalent to 1,000 kilograms or 100,000 grams. Therefore, if 1,602 metric tons of waste were landfilled in 2020, then the company must have had at least 1,602 employees in 2020.\n",
            "\n",
            "However, it's important to note that this is a rough estimate and may not be entirely accurate. The company may have had more or fewer employees in 2020, depending on various factors such as employee turnover, new hires, and layoffs.\n"
          ]
        }
      ],
      "source": [
        "result = qa_chain(\" what isTotal number of  Employees  in 2020 ? \")"
      ]
    },
    {
      "cell_type": "markdown",
      "metadata": {
        "id": "pC5Uvh0LF_O9"
      },
      "source": [
        "#Bayer"
      ]
    },
    {
      "cell_type": "code",
      "execution_count": null,
      "metadata": {
        "colab": {
          "base_uri": "https://localhost:8080/"
        },
        "id": "Na15OhqNGBRV",
        "outputId": "acc6ad5f-04dd-494f-f9bd-5531173e2272"
      },
      "outputs": [
        {
          "name": "stdout",
          "output_type": "stream",
          "text": [
            " Based on the information provided in the table, the Scope 1 emissions in 2020 were 2.01 million metric tons CO2e.\n"
          ]
        }
      ],
      "source": [
        "\n",
        "result = qa_chain(\"What Scope 1 in 2020 Greenhouse Gas Emissions (Scope 1 and 2)table ethod metric tons CO2e?\")\n",
        "\n"
      ]
    },
    {
      "cell_type": "code",
      "execution_count": null,
      "metadata": {
        "colab": {
          "base_uri": "https://localhost:8080/"
        },
        "id": "ZNB_MEz3GHMr",
        "outputId": "d0963213-8d2a-4caf-b269-9379ec320617"
      },
      "outputs": [
        {
          "name": "stdout",
          "output_type": "stream",
          "text": [
            " Based on the information provided, Scope 2: Indirect emissions2 according to the market-based method emissions in 2020 were 1.57 million metric tons CO2e.\n"
          ]
        }
      ],
      "source": [
        "\n",
        "\n",
        "\n",
        "result = qa_chain(\"What is Scope 2: Indirect emissions2 according to the market-based method emissions metric tons CO2e in 2020  ?\")\n",
        "\n"
      ]
    },
    {
      "cell_type": "code",
      "execution_count": null,
      "metadata": {
        "colab": {
          "base_uri": "https://localhost:8080/"
        },
        "id": "_LBb0fEXGMcz",
        "outputId": "d380f205-8b1c-4bf5-ac31-029d0937fd6c"
      },
      "outputs": [
        {
          "name": "stdout",
          "output_type": "stream",
          "text": [
            " Based on the information provided, the Scope 2 market-based method emissions in 2020 were 1.57 million metric tons CO2e.\n"
          ]
        }
      ],
      "source": [
        "\n",
        "\n",
        "\n",
        "result = qa_chain(\"What Scope 2 market-based method  emissions metric tons CO2e in 2020\")\n",
        "\n"
      ]
    },
    {
      "cell_type": "code",
      "execution_count": null,
      "metadata": {
        "colab": {
          "base_uri": "https://localhost:8080/"
        },
        "id": "PNzaBOgAGQns",
        "outputId": "f002097c-340b-4e6f-b3ac-872f60210666"
      },
      "outputs": [
        {
          "name": "stdout",
          "output_type": "stream",
          "text": [
            " Based on the information provided, the Scope 3 indirect emissions from the upstream and downstream value chain (by materiality) in 2020 were 8.87 million metric tons CO2e.\n"
          ]
        }
      ],
      "source": [
        "\n",
        "\n",
        "\n",
        "result = qa_chain(\"What Scope 3 Indirect emissions from our upstream and downstream value chain (by materiality)1 table metric tons CO2e in 2020 ?\"\n",
        ")\n",
        "\n"
      ]
    },
    {
      "cell_type": "code",
      "execution_count": null,
      "metadata": {
        "colab": {
          "base_uri": "https://localhost:8080/"
        },
        "id": "GYDk0n7EGcgr",
        "outputId": "ec219331-d85c-44b7-c00f-9b3faaeaf5c3"
      },
      "outputs": [
        {
          "name": "stdout",
          "output_type": "stream",
          "text": [
            " Based on the information provided, I can answer the following question:\n",
            "\n",
            "What is the Scope 3 indirect emissions from upstream and downstream value chain to attain the SBT?\n",
            "\n",
            "According to the information provided, the Scope 3 indirect emissions from upstream and downstream value chain to attain the SBT are 8.87 million metric tons CO2e in 2019, representing 88% of the company's total Scope 3 emissions.\n"
          ]
        }
      ],
      "source": [
        "\n",
        "\n",
        "\n",
        "result = qa_chain(\"What Scope 3  metric tons CO2e  ?\"\n",
        ")\n",
        "\n"
      ]
    },
    {
      "cell_type": "code",
      "execution_count": null,
      "metadata": {
        "colab": {
          "base_uri": "https://localhost:8080/"
        },
        "id": "Vd7dO6wHGhuq",
        "outputId": "e902778f-7cc6-4ab5-aa06-29c61b8b891d"
      },
      "outputs": [
        {
          "name": "stdout",
          "output_type": "stream",
          "text": [
            " Based on the information provided, I cannot determine the exact volume of waste produced in 1,000 metric tons. However, I can provide some relevant information:\n",
            "\n",
            "* The total volume of waste disposed of in 2019 and 2020 was 872,943 and 943, respectively.\n",
            "* The proportion of hazardous waste that was recycled was 12.4% in both years.\n",
            "* The volume of hazardous waste disposed of to landfill fell in 2020 due to the completion of construction work at the Vapi site in India.\n",
            "\n",
            "Without more specific information about the type and amount of waste produced in 1,000 metric tons, I cannot accurately calculate the volume of waste produced.\n"
          ]
        }
      ],
      "source": [
        "result = qa_chain(\"What is volume of waste   produced in 1,000 metric tons  ? \")\n",
        "\n"
      ]
    },
    {
      "cell_type": "code",
      "execution_count": null,
      "metadata": {
        "colab": {
          "base_uri": "https://localhost:8080/"
        },
        "id": "MdllQCmTGlv6",
        "outputId": "f15b5d33-a448-4011-93d2-2d8deec9831a"
      },
      "outputs": [
        {
          "name": "stdout",
          "output_type": "stream",
          "text": [
            " Based on the information provided, the answer to your question is:\n",
            "\n",
            "Hazardous waste disposed of produced in 2020 was 305 tons.\n"
          ]
        }
      ],
      "source": [
        "\n",
        "\n",
        "\n",
        "\n",
        "\n",
        "\n",
        "result = qa_chain(\" what is Hazardous waste disposed of produced in  2020 tons  ? \")"
      ]
    },
    {
      "cell_type": "code",
      "execution_count": null,
      "metadata": {
        "colab": {
          "base_uri": "https://localhost:8080/"
        },
        "id": "EcLZZZkIGqWI",
        "outputId": "a752e56d-38d6-4826-aed8-3b3186ac916e"
      },
      "outputs": [
        {
          "name": "stdout",
          "output_type": "stream",
          "text": [
            " Based on the information provided, the total water usage in cubic meters in 2020 is 57 million cubic meters. This is calculated by adding the total water sourced (59 million cubic meters) and the volume of treated production wastewater (25 million cubic meters), and then subtracting the volume of water recycled (380 million cubic meters).\n",
            "\n",
            "59 million cubic meters + 25 million cubic meters - 380 million cubic meters = 57 million cubic meters\n"
          ]
        }
      ],
      "source": [
        "\n",
        "\n",
        "\n",
        "result = qa_chain(\" what is  Total water usage in cubic meter  in 2020 ? \")\n",
        "\n",
        "\n",
        "\n",
        "\n",
        "\n",
        "\n"
      ]
    },
    {
      "cell_type": "code",
      "execution_count": null,
      "metadata": {
        "colab": {
          "base_uri": "https://localhost:8080/"
        },
        "id": "fdt4fSvUGx5Y",
        "outputId": "7e52f296-e4d6-4ef0-c2f3-6391be541be4"
      },
      "outputs": [
        {
          "name": "stdout",
          "output_type": "stream",
          "text": [
            " Based on the information provided, the total number of employees in 2020 was 99,538.\n"
          ]
        }
      ],
      "source": [
        "result = qa_chain(\" what isTotal number of  Employees in 2020 ? \")"
      ]
    },
    {
      "cell_type": "code",
      "execution_count": null,
      "metadata": {
        "id": "KYmW_fBuHxQW"
      },
      "outputs": [],
      "source": []
    },
    {
      "cell_type": "markdown",
      "metadata": {
        "id": "oEsO7--CXYxM"
      },
      "source": [
        "#Philip Morris International Inc."
      ]
    },
    {
      "cell_type": "code",
      "execution_count": null,
      "metadata": {
        "colab": {
          "base_uri": "https://localhost:8080/"
        },
        "id": "3kCiOj22aAYi",
        "outputId": "3259283e-ee7a-47e9-922f-d433d3834316"
      },
      "outputs": [
        {
          "name": "stdout",
          "output_type": "stream",
          "text": [
            " Based on the information provided in the table, the scope 1 (metric tons) for climate protection in 2020 is 322,633.\n"
          ]
        }
      ],
      "source": [
        "result = qa_chain(\"What scope 1 (metric tons)  climate protection table 2020?\")\n",
        "\n"
      ]
    },
    {
      "cell_type": "code",
      "execution_count": null,
      "metadata": {
        "colab": {
          "base_uri": "https://localhost:8080/"
        },
        "id": "uzZ_xvycaAYj",
        "outputId": "09ac44ad-a659-4527-c514-cac363ec7872"
      },
      "outputs": [
        {
          "name": "stdout",
          "output_type": "stream",
          "text": [
            " Based on the information provided in the climate protection table, the scope 2 (metric tons) for 2020 is 158,672.\n"
          ]
        }
      ],
      "source": [
        "result = qa_chain(\"What scope2 (metric tons)  climate protection table 2020?\")\n",
        "\n"
      ]
    },
    {
      "cell_type": "code",
      "execution_count": null,
      "metadata": {
        "colab": {
          "base_uri": "https://localhost:8080/"
        },
        "id": "U0Ha673QaAYj",
        "outputId": "cea5fbbd-839e-4092-bb8d-1e5d5ab5bf3c"
      },
      "outputs": [
        {
          "name": "stdout",
          "output_type": "stream",
          "text": [
            " Based on the information provided in the table, the scope 2 (metric tons) market-based climate protection for 2020 is 90,366.\n"
          ]
        }
      ],
      "source": [
        "result = qa_chain(\"What scope 2 (metric tons) market- based climate protection table 2020?\")\n",
        "\n"
      ]
    },
    {
      "cell_type": "code",
      "execution_count": null,
      "metadata": {
        "colab": {
          "base_uri": "https://localhost:8080/"
        },
        "id": "PTX3u8rijdtZ",
        "outputId": "c8f5bd5f-c338-4286-dc45-0de74afeb3fb"
      },
      "outputs": [
        {
          "name": "stdout",
          "output_type": "stream",
          "text": [
            " Based on the information provided in the table, I can see that there is no data for scope 2 (metric tons) in the location-based climate protection table for 2020. The table only provides data for scope 1 and scope 3 emissions. Therefore, I cannot answer the question as there is no relevant information available.\n"
          ]
        }
      ],
      "source": [
        "result = qa_chain(\"What scope 2 (metric tons) location- based climate protection table 2020?\")\n",
        "\n"
      ]
    },
    {
      "cell_type": "code",
      "execution_count": null,
      "metadata": {
        "colab": {
          "base_uri": "https://localhost:8080/"
        },
        "id": "wY7MGBySaAYk",
        "outputId": "58cfc80e-9bd5-47e1-a8a9-9b892754c5e3"
      },
      "outputs": [
        {
          "name": "stdout",
          "output_type": "stream",
          "text": [
            " Based on the information provided in the table, the scope 3 (metric tons) for climate protection in 2020 is 3,590.\n"
          ]
        }
      ],
      "source": [
        "result = qa_chain(\"What scope 3 (metric tons) climate protection table 2020?\")\n",
        "\n",
        "\n",
        "\n"
      ]
    },
    {
      "cell_type": "code",
      "execution_count": null,
      "metadata": {
        "colab": {
          "base_uri": "https://localhost:8080/"
        },
        "id": "zpaw0VTkaAYk",
        "outputId": "2b1abf1f-c9ac-42db-d13f-426d75a10ad2"
      },
      "outputs": [
        {
          "name": "stderr",
          "output_type": "stream",
          "text": [
            "/usr/local/lib/python3.10/dist-packages/transformers/pipelines/base.py:1083: UserWarning: You seem to be using the pipelines sequentially on GPU. In order to maximize efficiency please use a dataset\n",
            "  warnings.warn(\n"
          ]
        },
        {
          "name": "stdout",
          "output_type": "stream",
          "text": [
            " Based on the information provided, I can answer the following questions:\n",
            "\n",
            "What was the total amount of waste generated in 2020?\n",
            "\n",
            "According to the table, the total amount of waste generated in 2020 was 119,750 metric tons.\n"
          ]
        }
      ],
      "source": [
        "result = qa_chain(\"What Total amount of   waste of produced in tons  in 2020 ? \")\n",
        "\n"
      ]
    },
    {
      "cell_type": "code",
      "execution_count": null,
      "metadata": {
        "colab": {
          "base_uri": "https://localhost:8080/"
        },
        "id": "q1ELiuaaaAYl",
        "outputId": "71e16c29-37d8-43f5-8223-361d89d4c96c"
      },
      "outputs": [
        {
          "name": "stdout",
          "output_type": "stream",
          "text": [
            " Based on the information provided, I cannot determine the total amount of hazardous waste produced in 2020. The information only provides data on the proportion of hazardous waste that was recycled, incinerated with energy recovery, and disposed to landfill, but it does not provide the total amount of hazardous waste generated. Additionally, the information only covers up to 2019, and there is no data available for 2020. Therefore, I cannot answer the question.\n"
          ]
        }
      ],
      "source": [
        "result = qa_chain(\" what isTotal hazardous waste  produced in tons  in 2020 ? \")\n",
        "\n"
      ]
    },
    {
      "cell_type": "code",
      "execution_count": null,
      "metadata": {
        "colab": {
          "base_uri": "https://localhost:8080/"
        },
        "id": "GFQ29SAsaAYm",
        "outputId": "0f250555-7dfa-424f-affe-b89a7d182e6e"
      },
      "outputs": [
        {
          "name": "stdout",
          "output_type": "stream",
          "text": [
            " Based on the information provided in the text, the total water usage in cubic meters in the circular environment table in 2020 is 1,299,000 m3.\n"
          ]
        }
      ],
      "source": [
        "result = qa_chain(\" what is  Total water usage in cubic meter in circular environment table in 2020 ? \")\n",
        "\n"
      ]
    },
    {
      "cell_type": "code",
      "execution_count": null,
      "metadata": {
        "colab": {
          "base_uri": "https://localhost:8080/"
        },
        "id": "tZifXp-iaAYm",
        "outputId": "ee89f474-2273-4161-c3d4-2d24f4b067b3"
      },
      "outputs": [
        {
          "name": "stdout",
          "output_type": "stream",
          "text": [
            " Based on the information provided, the total number of employees of Philip Morris International as of year-end 2020 is:\n",
            "\n",
            "Permanent employees:\n",
            "\n",
            "* Women: 28,401\n",
            "* Men: 39,835\n",
            "\n",
            "Temporary employees:\n",
            "\n",
            "* Women: 1,109\n",
            "* Men: 1,504\n",
            "\n",
            "Total number of employees:\n",
            "\n",
            "28,401 + 39,835 + 1,109 + 1,504 = 79,445\n",
            "\n",
            "Therefore, the total number of employees of Philip Morris International as of year-end 2020 was approximately 79,445.\n"
          ]
        }
      ],
      "source": [
        "result = qa_chain(\" what isTotal number of  Employees n 2020 ? \")\n",
        "\n"
      ]
    },
    {
      "cell_type": "code",
      "execution_count": null,
      "metadata": {
        "id": "-KutKEFfk1Jb"
      },
      "outputs": [],
      "source": []
    },
    {
      "cell_type": "markdown",
      "metadata": {
        "id": "fYqKz6v32NqN"
      },
      "source": [
        "#Nokia"
      ]
    },
    {
      "cell_type": "code",
      "execution_count": null,
      "metadata": {
        "colab": {
          "base_uri": "https://localhost:8080/"
        },
        "id": "-g779tiF2NqP",
        "outputId": "814716a5-69b4-4921-9192-542523ca5fdf"
      },
      "outputs": [
        {
          "name": "stdout",
          "output_type": "stream",
          "text": [
            " Based on the information provided in the Nokia People & Planet Report 2020, the Scope 1 GHG emissions in 2020 were 116,300 metric tons CO2e.\n"
          ]
        }
      ],
      "source": [
        "result = qa_chain(\"What Scope 1GHG Emissions tons CO2e in 2020\")\n",
        "\n"
      ]
    },
    {
      "cell_type": "code",
      "execution_count": null,
      "metadata": {
        "colab": {
          "base_uri": "https://localhost:8080/"
        },
        "id": "3zo1Fgrq2NqQ",
        "outputId": "8cd06470-8a97-4ccd-d1a3-525696280fdb"
      },
      "outputs": [
        {
          "name": "stdout",
          "output_type": "stream",
          "text": [
            " Based on the information provided in the Nokia People & Planet Report 2020, the Scope 2 GHG emissions, Market-based in 2020 were 327,200 tons CO2e.\n"
          ]
        }
      ],
      "source": [
        "result = qa_chain(\"What Scope 2 GHG emissions, Market-based tons CO2e in 2020\")\n",
        "\n"
      ]
    },
    {
      "cell_type": "code",
      "execution_count": null,
      "metadata": {
        "colab": {
          "base_uri": "https://localhost:8080/"
        },
        "id": "aTAb8SaY2NqR",
        "outputId": "630cc7fd-53e4-465e-9ded-9ed6684620e5"
      },
      "outputs": [
        {
          "name": "stdout",
          "output_type": "stream",
          "text": [
            " Based on the information provided in the Nokia People & Planet Report 2020, the Scope 2 GHG emissions, location-based in 2020 were 327,200 metric tons CO2e.\n"
          ]
        }
      ],
      "source": [
        "result = qa_chain(\"What Scope 2GHG Emissions ,location- based in 2020 ?\")\n",
        "\n"
      ]
    },
    {
      "cell_type": "code",
      "execution_count": null,
      "metadata": {
        "colab": {
          "base_uri": "https://localhost:8080/"
        },
        "id": "ARCAWgtb2NqR",
        "outputId": "a32e7632-e8fa-43ac-9f2c-9d0c8bb945c8"
      },
      "outputs": [
        {
          "name": "stdout",
          "output_type": "stream",
          "text": [
            " Sure! Here is the answer to your question based on the provided text:\n",
            "\n",
            "Based on the information provided in the text, the Scope 3 GHG emissions related to upstream transportation and distribution of products in 2020 were approximately 255,200 metric tons CO2e.\n"
          ]
        }
      ],
      "source": [
        "result = qa_chain(\"What Scope 3 in tons in 2020\")\n",
        "\n"
      ]
    },
    {
      "cell_type": "code",
      "execution_count": null,
      "metadata": {
        "colab": {
          "base_uri": "https://localhost:8080/"
        },
        "id": "8Q4d-ncQ2NqS",
        "outputId": "9874ec7d-f740-441f-9da5-0490a4f98949"
      },
      "outputs": [
        {
          "name": "stdout",
          "output_type": "stream",
          "text": [
            " Based on the information provided, I cannot determine the total waste generated by Nokia in 2020. The information provided only includes partial data on waste generation, and there is no total waste figure given. Additionally, the data provided is not comprehensive, as it does not include all types of waste, such as packaging waste and equipment collected at the end-of-life. Without complete and accurate data, it is not possible to calculate a total waste figure for Nokia in 2020.\n"
          ]
        }
      ],
      "source": [
        "result = qa_chain(\"What Total  waste  \")\n",
        "\n"
      ]
    },
    {
      "cell_type": "code",
      "execution_count": null,
      "metadata": {
        "colab": {
          "base_uri": "https://localhost:8080/"
        },
        "id": "yaBG9U3D2NqS",
        "outputId": "3e02c553-e41d-4eb0-e9d9-2ef50abe35d1"
      },
      "outputs": [
        {
          "name": "stdout",
          "output_type": "stream",
          "text": [
            " Based on the information provided in the text, I cannot determine the total amount of hazardous waste generated by Nokia in 2020. The text provides information on the different types of hazardous waste, but it does not provide a total amount for all of these wastes combined. Therefore, I do not know the answer to your question.\n"
          ]
        }
      ],
      "source": [
        "result = qa_chain(\" what isTotal hazardous waste  in circular economy in 2020? \")\n",
        "\n"
      ]
    },
    {
      "cell_type": "code",
      "execution_count": null,
      "metadata": {
        "id": "lZwVbLfG2NqT"
      },
      "outputs": [],
      "source": []
    },
    {
      "cell_type": "code",
      "execution_count": null,
      "metadata": {
        "colab": {
          "base_uri": "https://localhost:8080/"
        },
        "id": "zXNPR-WB2NqU",
        "outputId": "1d62309b-5f6d-4890-9128-0240ef78dc41"
      },
      "outputs": [
        {
          "name": "stdout",
          "output_type": "stream",
          "text": [
            " Based on the information provided in the text, the total water usage in cubic meters in the circular environment table in 2020 is 1,299,000 m3.\n"
          ]
        }
      ],
      "source": [
        "result = qa_chain(\" what is  Total water usage in cubic meter in circular environment table in 2020 ? \")\n",
        "\n"
      ]
    },
    {
      "cell_type": "code",
      "execution_count": null,
      "metadata": {
        "colab": {
          "base_uri": "https://localhost:8080/"
        },
        "id": "eycTJgGb2NqU",
        "outputId": "40318230-33b2-4eb1-edcf-e2554093a6ba"
      },
      "outputs": [
        {
          "name": "stdout",
          "output_type": "stream",
          "text": [
            " Based on the information provided in the text, the total number of employees year-end situation in 2020 was 89,978. This can be found in the \"People data\" section of the report, under the heading \"Total number of employees.\"\n"
          ]
        }
      ],
      "source": [
        "result = qa_chain(\" what isTotal number of  Employees year-end situation 2020 ? \")\n",
        "\n"
      ]
    }
  ],
  "metadata": {
    "accelerator": "GPU",
    "colab": {
      "provenance": []
    },
    "kernelspec": {
      "display_name": "Python 3",
      "name": "python3"
    },
    "language_info": {
      "name": "python"
    }
  },
  "nbformat": 4,
  "nbformat_minor": 0
}